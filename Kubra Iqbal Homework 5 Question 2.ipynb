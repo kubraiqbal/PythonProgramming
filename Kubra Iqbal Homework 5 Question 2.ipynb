{
 "cells": [
  {
   "cell_type": "code",
   "execution_count": null,
   "metadata": {},
   "outputs": [],
   "source": [
    "#Kubra Iqbal \n",
    "#Homework 5 Question 2 \n",
    "#Honor Statement : I have not given or received any unauthorized assistance on this assignment.\n"
   ]
  },
  {
   "cell_type": "code",
   "execution_count": 20,
   "metadata": {},
   "outputs": [],
   "source": [
    "import numpy as np #import numpy\n",
    "from pandas import DataFrame #pandas - DataFrame\n",
    "\n"
   ]
  },
  {
   "cell_type": "code",
   "execution_count": 21,
   "metadata": {},
   "outputs": [],
   "source": [
    "# Conway function to create a random board -- name it conway (s,p)\n",
    "def conway(s, p):\n",
    "  \n",
    "   # Parameters:\n",
    "       # s = size of board\n",
    "       # p = proportion/percentage of live cells in the board (denoted in decimal)\n",
    "        \n",
    "    #Returns:\n",
    "       # c = a NumPy 2D Array of size s with p percent of live cells\n",
    " \n",
    "    totalCells = s*s\n",
    "    aliveCells = int(p*totalCells)\n",
    "    deadCells = totalCells - aliveCells\n",
    "    a = np.ones(aliveCells)\n",
    "    b = np.zeros(deadCells)\n",
    "    c = np.append(a, b)\n",
    "    np.random.shuffle(c)\n",
    "    c = c.reshape(s,s)\n",
    "    return c.astype(int)"
   ]
  },
  {
   "cell_type": "code",
   "execution_count": 22,
   "metadata": {},
   "outputs": [],
   "source": [
    "def dBoard(f):\n",
    "   \n",
    "   # This function takes input a NumPy 2D array (denoting a board) and displays the board on the output\n",
    "    \n",
    "    df = DataFrame(f)\n",
    "    print(\"Your current life board at the moment is:\")\n",
    "    print(df)\n",
    "    print('\\n')"
   ]
  },
  {
   "cell_type": "code",
   "execution_count": 26,
   "metadata": {},
   "outputs": [],
   "source": [
    "def scanBoard(f):\n",
    "    \n",
    "\n",
    " #• Any live cell (marked as 1) with fewer than two live neighbors dies, as if by underpopulation.\n",
    "#• Any live cell (marked as 1) with two or three live neighbors lives on to the next generation.\n",
    "#• Any live cell (marked as 1) with more than three live neighbors dies, as if by overpopulation.\n",
    "#• Any dead cell (marked as 0) with exactly three live neighbors becomes a live cell, as if by reproduction.\n",
    "\n",
    "  \n",
    "# f = 2D NumPy Array\n",
    "        \n",
    "# f = new 2D NumPy Array\n",
    "\n",
    "    \n",
    "    for i in range(0, f.shape[0]):\n",
    "        for j in range(0,f.shape[1]):\n",
    "            leftPos = (f.shape[1]-1) if j == 0  else j-1\n",
    "            rightPos = 0 if j == (f.shape[1]-1) else j+1\n",
    "            upperPos = (f.shape[0]-1) if i == 0 else i-1\n",
    "            lowerPos = 0 if i == (f.shape[0]-1) else i+1\n",
    "            \n",
    "            neighborsSum = f[i, leftPos] + f[i, rightPos] + f[upperPos, j] + f[lowerPos, j] + f[leftPos, upperPos] + f[leftPos, lowerPos] + f[rightPos, lowerPos] + f[rightPos, upperPos]\n",
    "            \n",
    "            if f[i,j] == 1 and (neighborsSum < 2 or neighborsSum > 3):\n",
    "                f[i,j] = 0\n",
    "            elif f[i,j] == 0 and neighborsSum == 3:\n",
    "                f[i,j] = 1\n",
    "                \n",
    "    return f"
   ]
  },
  {
   "cell_type": "code",
   "execution_count": 27,
   "metadata": {},
   "outputs": [],
   "source": [
    "def advance(f, t):\n",
    " \n",
    "    for i in range(0, t):\n",
    "        f = scanBoard(f)\n",
    "    \n",
    "    return f"
   ]
  },
  {
   "cell_type": "code",
   "execution_count": 30,
   "metadata": {},
   "outputs": [
    {
     "name": "stdout",
     "output_type": "stream",
     "text": [
      "Your current life board at the moment is:\n",
      "   0  1  2  3  4  5\n",
      "0  0  1  1  0  1  1\n",
      "1  0  1  1  1  1  1\n",
      "2  1  0  0  0  1  0\n",
      "3  1  0  0  0  0  0\n",
      "4  0  1  1  0  1  0\n",
      "5  0  1  1  0  1  0\n",
      "\n",
      "\n",
      "Your current life board at the moment is:\n",
      "   0  1  2  3  4  5\n",
      "0  0  1  0  0  0  1\n",
      "1  0  1  0  0  0  1\n",
      "2  1  0  0  1  0  0\n",
      "3  0  0  0  0  1  1\n",
      "4  1  0  0  1  1  0\n",
      "5  1  0  0  0  1  0\n",
      "\n",
      "\n",
      "Your current life board at the moment is:\n",
      "   0  1  2  3  4  5\n",
      "0  1  1  1  1  1  1\n",
      "1  0  0  1  0  0  0\n",
      "2  0  1  1  1  0  0\n",
      "3  1  0  1  0  1  0\n",
      "4  1  0  1  0  0  1\n",
      "5  1  0  0  0  0  0\n",
      "\n",
      "\n"
     ]
    }
   ],
   "source": [
    "# Testing code\n",
    "#add whatever values to run this code\n",
    "c = conway(6, 0.5)\n",
    "dBoard(c)\n",
    "c = advance(c, 2)\n",
    "dBoard(c)\n",
    "c = advance(c, 2)\n",
    "dBoard(c)"
   ]
  },
  {
   "cell_type": "code",
   "execution_count": null,
   "metadata": {},
   "outputs": [],
   "source": []
  },
  {
   "cell_type": "code",
   "execution_count": null,
   "metadata": {},
   "outputs": [],
   "source": []
  }
 ],
 "metadata": {
  "kernelspec": {
   "display_name": "Python 3",
   "language": "python",
   "name": "python3"
  },
  "language_info": {
   "codemirror_mode": {
    "name": "ipython",
    "version": 3
   },
   "file_extension": ".py",
   "mimetype": "text/x-python",
   "name": "python",
   "nbconvert_exporter": "python",
   "pygments_lexer": "ipython3",
   "version": "3.7.2"
  }
 },
 "nbformat": 4,
 "nbformat_minor": 2
}
