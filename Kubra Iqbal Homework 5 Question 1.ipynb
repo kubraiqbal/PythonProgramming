{
 "cells": [
  {
   "cell_type": "code",
   "execution_count": null,
   "metadata": {},
   "outputs": [],
   "source": [
    "# Name : Kubra Iqbal\n",
    "#Honor code : I have not given or received any unauthorized assistance on this assignment.”  \n"
   ]
  },
  {
   "cell_type": "code",
   "execution_count": 2,
   "metadata": {},
   "outputs": [],
   "source": [
    "import numpy as np #part 1"
   ]
  },
  {
   "cell_type": "code",
   "execution_count": 4,
   "metadata": {},
   "outputs": [],
   "source": [
    "a = np.arange(0, 100, 1) #part 2"
   ]
  },
  {
   "cell_type": "code",
   "execution_count": 5,
   "metadata": {},
   "outputs": [],
   "source": [
    "b = np.arange(0, 100, 10) # part 3"
   ]
  },
  {
   "cell_type": "code",
   "execution_count": 6,
   "metadata": {},
   "outputs": [],
   "source": [
    "c = np.linspace(0, 10, 101, endpoint=True) # part 4"
   ]
  },
  {
   "cell_type": "code",
   "execution_count": 7,
   "metadata": {},
   "outputs": [],
   "source": [
    "d = np.random.randint(0,10000,100).reshape(10,10) #part 5"
   ]
  },
  {
   "cell_type": "code",
   "execution_count": 8,
   "metadata": {},
   "outputs": [],
   "source": [
    "a = a.reshape(10,10) #part 6"
   ]
  },
  {
   "cell_type": "code",
   "execution_count": 9,
   "metadata": {},
   "outputs": [
    {
     "data": {
      "text/plain": [
       "45"
      ]
     },
     "execution_count": 9,
     "metadata": {},
     "output_type": "execute_result"
    }
   ],
   "source": [
    "a[4,5] #part 7"
   ]
  },
  {
   "cell_type": "code",
   "execution_count": 10,
   "metadata": {},
   "outputs": [
    {
     "data": {
      "text/plain": [
       "array([40, 41, 42, 43, 44, 45, 46, 47, 48, 49])"
      ]
     },
     "execution_count": 10,
     "metadata": {},
     "output_type": "execute_result"
    }
   ],
   "source": [
    "a[4] #part 8"
   ]
  },
  {
   "cell_type": "code",
   "execution_count": 11,
   "metadata": {},
   "outputs": [
    {
     "data": {
      "text/plain": [
       "500520"
      ]
     },
     "execution_count": 11,
     "metadata": {},
     "output_type": "execute_result"
    }
   ],
   "source": [
    "d.sum() #part 9"
   ]
  },
  {
   "cell_type": "code",
   "execution_count": 16,
   "metadata": {},
   "outputs": [
    {
     "data": {
      "text/plain": [
       "array([ 0, 10, 20, 30, 40, 50, 60, 70, 80, 90])"
      ]
     },
     "execution_count": 16,
     "metadata": {},
     "output_type": "execute_result"
    }
   ],
   "source": [
    "b.transpose() # part 11"
   ]
  },
  {
   "cell_type": "code",
   "execution_count": 13,
   "metadata": {},
   "outputs": [
    {
     "data": {
      "text/plain": [
       "array([[5842, 7786, 1651, 5416,  117, 2086, 7355, 7372, 6733,   37],\n",
       "       [1263, 3480, 5104, 1244, 5412, 7838, 3368, 2966, 6288, 8235],\n",
       "       [7187,  704,  180, 9587, 3935, 6501, 8579, 4489, 3765,  362],\n",
       "       [3446, 4707, 6307, 8940, 7870, 9578,  528, 6791, 3250, 8647],\n",
       "       [1561, 2217, 6079, 8935, 9589, 1455, 6224, 1740, 2661, 4893],\n",
       "       [6007, 5028, 6303, 9168, 8678, 5279, 9502, 5450, 4124, 8838],\n",
       "       [9951, 1881, 1435, 5179, 3119, 8208, 3942, 7859, 3685, 4360],\n",
       "       [2284, 3682,  294, 3317, 5556, 5898, 4255, 6566,  515, 4556],\n",
       "       [2054, 8013, 2624, 7947, 7704, 5948, 1823, 8987, 1649, 8746],\n",
       "       [5361, 5586, 1687, 2420, 7052, 9634, 7055, 8407, 4024, 3530]])"
      ]
     },
     "execution_count": 13,
     "metadata": {},
     "output_type": "execute_result"
    }
   ],
   "source": [
    "a + d # part 12"
   ]
  },
  {
   "cell_type": "code",
   "execution_count": 14,
   "metadata": {},
   "outputs": [
    {
     "data": {
      "text/plain": [
       "array([[     0,   7785,   3298,  16239,    452,  10405,  44094,  51555,\n",
       "         53800,    252],\n",
       "       [ 12530,  38159,  61104,  16003,  75572, 117345,  53632,  50133,\n",
       "        112860, 156104],\n",
       "       [143340,  14343,   3476, 219972,  93864, 161900, 222378, 120474,\n",
       "        104636,   9657],\n",
       "       [102480, 144956, 200800, 293931, 266424, 334005,  17712, 249898,\n",
       "        122056, 335712],\n",
       "       [ 60840,  89216, 253554, 382356, 419980,  63450, 284188,  79571,\n",
       "        125424, 237356],\n",
       "       [297850, 253827, 325052, 483095, 465696, 287320, 528976, 307401,\n",
       "        235828, 517961],\n",
       "       [593460, 111020,  85126, 322308, 195520, 529295, 255816, 522064,\n",
       "        245956, 296079],\n",
       "       [154980, 256381,  15984, 236812, 405668, 436725, 317604, 499653,\n",
       "         34086, 353683],\n",
       "       [157920, 642492, 208444, 652712, 640080, 498355, 149382, 774300,\n",
       "        137368, 770473],\n",
       "       [474390, 500045, 146740, 216411, 654052, 906205, 668064, 806070,\n",
       "        384748, 339669]])"
      ]
     },
     "execution_count": 14,
     "metadata": {},
     "output_type": "execute_result"
    }
   ],
   "source": [
    "a * d #part 12"
   ]
  },
  {
   "cell_type": "code",
   "execution_count": 17,
   "metadata": {
    "scrolled": true
   },
   "outputs": [
    {
     "data": {
      "text/plain": [
       "array([[ 12517750,  14228840,   6920788,  16043566,  20090876,  21509090,\n",
       "         15298912,  22975049,   8645150,  18194843],\n",
       "       [ 32495650,  34811080,  19956568,  44441956,  52263956,  54959140,\n",
       "         40717372,  57586239,  24212770,  48364303],\n",
       "       [ 52473550,  55393320,  32992348,  72840346,  84437036,  88409190,\n",
       "         66135832,  92197429,  39780390,  78533763],\n",
       "       [ 72451450,  75975560,  46028128, 101238736, 116610116, 121859240,\n",
       "         91554292, 126808619,  55348010, 108703223],\n",
       "       [ 92429350,  96557800,  59063908, 129637126, 148783196, 155309290,\n",
       "        116972752, 161419809,  70915630, 138872683],\n",
       "       [112407250, 117140040,  72099688, 158035516, 180956276, 188759340,\n",
       "        142391212, 196030999,  86483250, 169042143],\n",
       "       [132385150, 137722280,  85135468, 186433906, 213129356, 222209390,\n",
       "        167809672, 230642189, 102050870, 199211603],\n",
       "       [152363050, 158304520,  98171248, 214832296, 245302436, 255659440,\n",
       "        193228132, 265253379, 117618490, 229381063],\n",
       "       [172340950, 178886760, 111207028, 243230686, 277475516, 289109490,\n",
       "        218646592, 299864569, 133186110, 259550523],\n",
       "       [192318850, 199469000, 124242808, 271629076, 309648596, 322559540,\n",
       "        244065052, 334475759, 148753730, 289719983]])"
      ]
     },
     "execution_count": 17,
     "metadata": {},
     "output_type": "execute_result"
    }
   ],
   "source": [
    "a.dot(a*d) #part 14"
   ]
  },
  {
   "cell_type": "code",
   "execution_count": 18,
   "metadata": {},
   "outputs": [
    {
     "data": {
      "text/plain": [
       "99"
      ]
     },
     "execution_count": 18,
     "metadata": {},
     "output_type": "execute_result"
    }
   ],
   "source": [
    "np.amax(a) # part 10 -- it is in the end because i didn't know how to add it on the top on the jypyter notebook, initially missed this part"
   ]
  },
  {
   "cell_type": "code",
   "execution_count": null,
   "metadata": {},
   "outputs": [],
   "source": []
  }
 ],
 "metadata": {
  "kernelspec": {
   "display_name": "Python 3",
   "language": "python",
   "name": "python3"
  },
  "language_info": {
   "codemirror_mode": {
    "name": "ipython",
    "version": 3
   },
   "file_extension": ".py",
   "mimetype": "text/x-python",
   "name": "python",
   "nbconvert_exporter": "python",
   "pygments_lexer": "ipython3",
   "version": "3.7.2"
  }
 },
 "nbformat": 4,
 "nbformat_minor": 2
}
